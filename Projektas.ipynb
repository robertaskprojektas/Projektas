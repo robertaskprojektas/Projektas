{
 "cells": [
  {
   "cell_type": "markdown",
   "metadata": {},
   "source": [
    "# Student alcohol consumption\n",
    "\n",
    "**Data Set Information**\n",
    "\n",
    "Secondary school student alcohol consumption data with social, gender and study information. The data were obtained in a survey of students math courses in secondary school. It contains a lot of interesting social, gender and study information about students.\n",
    "\n",
    "I will be predicting the Final Grade (G3).\n",
    "\n",
    "I will as well look into the significance of alcohol consumption (Dalc, Walc) regarding the Final Grade.\n",
    "\n",
    "No missing values.\n",
    "\n",
    "No possible outliers.\n",
    "\n",
    "**Attribute Information**\n",
    "\n",
    "*The inputs are as follows:*\n",
    "\n",
    "*school* - student's school (binary: 'GP' - Gabriel Pereira or 'MS' - Mousinho da Silveira)\n",
    "\n",
    "*sex* - student's sex (binary: 'F' - female or 'M' - male)\n",
    "\n",
    "*age* - student's age (numeric: from 15 to 22)\n",
    "\n",
    "*address* - student's home address type (binary: 'U' - urban or 'R' - rural)\n",
    "\n",
    "*famsize* - family size (binary: 'LE3' - less or equal to 3 or 'GT3' - greater than 3)\n",
    "\n",
    "*Pstatus* - parent's cohabitation status (binary: 'T' - living together or 'A' - apart)\n",
    "\n",
    "*Medu* - mother's education (numeric: 0 - none, 1 - primary education (4th grade), 2 – 5th to 9th grade, 3 – secondary education or 4 – higher education)\n",
    "\n",
    "*Fedu* - father's education (numeric: 0 - none, 1 - primary education (4th grade), 2 – 5th to 9th grade, 3 – secondary education or 4 – higher education)\n",
    "\n",
    "*Mjob* - mother's job (nominal: 'teacher', 'health' care related, civil 'services' (e.g. administrative or police), 'at_home' or 'other')\n",
    "\n",
    "*Fjob* - father's job (nominal: 'teacher', 'health' care related, civil 'services' (e.g. administrative or police), 'at_home' or 'other')\n",
    "\n",
    "*reason* - reason to choose this school (nominal: close to 'home', school 'reputation', 'course' preference or 'other')\n",
    "\n",
    "*guardian* - student's guardian (nominal: 'mother', 'father' or 'other')\n",
    "\n",
    "*traveltime* - home to school travel time (numeric: 1 - <15 min., 2 - 15 to 30 min., 3 - 30 min. to 1 hour, or 4 - >1 hour)\n",
    "\n",
    "*studytime* - weekly study time (numeric: 1 - <2 hours, 2 - 2 to 5 hours, 3 - 5 to 10 hours, or 4 - >10 hours)\n",
    "\n",
    "*failures* - number of past class failures (numeric: n if 1<=n<3, else 4)\n",
    "\n",
    "*schoolsup* - extra educational support (binary: yes or no)\n",
    "\n",
    "*famsup* - family educational support (binary: yes or no)\n",
    "\n",
    "*paid* - extra paid classes within the course subject (Math or Portuguese) (binary: yes or no)\n",
    "\n",
    "*activities* - extra-curricular activities (binary: yes or no)\n",
    "\n",
    "*nursery* - attended nursery school (binary: yes or no)\n",
    "\n",
    "*higher* - wants to take higher education (binary: yes or no)\n",
    "\n",
    "*internet* - Internet access at home (binary: yes or no)\n",
    "\n",
    "*romantic* - with a romantic relationship (binary: yes or no)\n",
    "\n",
    "*famrel* - quality of family relationships (numeric: from 1 - very bad to 5 - excellent)\n",
    "\n",
    "*freetime* - free time after school (numeric: from 1 - very low to 5 - very high)\n",
    "\n",
    "*goout* - going out with friends (numeric: from 1 - very low to 5 - very high)\n",
    "\n",
    "*Dalc* - workday alcohol consumption (numeric: from 1 - very low to 5 - very high)\n",
    "\n",
    "*Walc* - weekend alcohol consumption (numeric: from 1 - very low to 5 - very high)\n",
    "\n",
    "*health* - current health status (numeric: from 1 - very bad to 5 - very good)\n",
    "\n",
    "*absences* - number of school absences (numeric: from 0 to 93)\n",
    "\n",
    "*The outputs are as follows:*\n",
    "\n",
    "*G1* - first period grade (numeric: from 0 to 20)\n",
    "\n",
    "*G2* - second period grade (numeric: from 0 to 20)\n",
    "\n",
    "*G3* - final grade (numeric: from 0 to 20, output target)"
   ]
  },
  {
   "cell_type": "code",
   "execution_count": 1,
   "metadata": {},
   "outputs": [],
   "source": [
    "from pyproj import Proj, transform\n",
    "from bokeh.io import output_notebook\n",
    "from bokeh.plotting import show, figure\n",
    "from bokeh.tile_providers import get_provider, Vendors\n",
    "from bokeh.models import ColumnDataSource\n",
    "\n",
    "from itertools import product\n",
    "from pandas.plotting import scatter_matrix\n",
    "import matplotlib.pyplot as plt\n",
    "import pandas as pd\n",
    "import numpy as np\n",
    "\n",
    "# SkLearn Linear regression\n",
    "from sklearn.linear_model import LinearRegression\n",
    "from sklearn.model_selection import train_test_split\n",
    "from sklearn import linear_model\n",
    "\n",
    "# Statsmodels\n",
    "import statsmodels.api as sm\n",
    "\n",
    "# Tkinter GUI task\n",
    "import tkinter as tk \n",
    "\n",
    "# Random forrest\n",
    "from sklearn.ensemble import RandomForestRegressor\n",
    "\n",
    "# Lasso\n",
    "from sklearn.linear_model import Lasso"
   ]
  },
  {
   "cell_type": "code",
   "execution_count": 2,
   "metadata": {
    "scrolled": false
   },
   "outputs": [],
   "source": [
    "# Importing dataset:\n",
    "d1=pd.read_csv('Duomenys.csv')"
   ]
  },
  {
   "cell_type": "code",
   "execution_count": 177,
   "metadata": {},
   "outputs": [
    {
     "data": {
      "text/plain": [
       "(395, 33)"
      ]
     },
     "execution_count": 177,
     "metadata": {},
     "output_type": "execute_result"
    }
   ],
   "source": [
    "# Shape of d1\n",
    "d1.shape"
   ]
  },
  {
   "cell_type": "code",
   "execution_count": 178,
   "metadata": {},
   "outputs": [
    {
     "data": {
      "text/plain": [
       "school        object\n",
       "sex           object\n",
       "age            int64\n",
       "address       object\n",
       "famsize       object\n",
       "Pstatus       object\n",
       "Medu           int64\n",
       "Fedu           int64\n",
       "Mjob          object\n",
       "Fjob          object\n",
       "reason        object\n",
       "guardian      object\n",
       "traveltime     int64\n",
       "studytime      int64\n",
       "failures       int64\n",
       "schoolsup     object\n",
       "famsup        object\n",
       "paid          object\n",
       "activities    object\n",
       "nursery       object\n",
       "higher        object\n",
       "internet      object\n",
       "romantic      object\n",
       "famrel         int64\n",
       "freetime       int64\n",
       "goout          int64\n",
       "Dalc           int64\n",
       "Walc           int64\n",
       "health         int64\n",
       "absences       int64\n",
       "G1             int64\n",
       "G2             int64\n",
       "G3             int64\n",
       "dtype: object"
      ]
     },
     "execution_count": 178,
     "metadata": {},
     "output_type": "execute_result"
    }
   ],
   "source": [
    "# Data type of each column. A lot of categorical variables\n",
    "d1.dtypes"
   ]
  },
  {
   "cell_type": "code",
   "execution_count": 179,
   "metadata": {},
   "outputs": [
    {
     "name": "stdout",
     "output_type": "stream",
     "text": [
      "<class 'pandas.core.frame.DataFrame'>\n",
      "RangeIndex: 395 entries, 0 to 394\n",
      "Data columns (total 33 columns):\n",
      "school        395 non-null object\n",
      "sex           395 non-null object\n",
      "age           395 non-null int64\n",
      "address       395 non-null object\n",
      "famsize       395 non-null object\n",
      "Pstatus       395 non-null object\n",
      "Medu          395 non-null int64\n",
      "Fedu          395 non-null int64\n",
      "Mjob          395 non-null object\n",
      "Fjob          395 non-null object\n",
      "reason        395 non-null object\n",
      "guardian      395 non-null object\n",
      "traveltime    395 non-null int64\n",
      "studytime     395 non-null int64\n",
      "failures      395 non-null int64\n",
      "schoolsup     395 non-null object\n",
      "famsup        395 non-null object\n",
      "paid          395 non-null object\n",
      "activities    395 non-null object\n",
      "nursery       395 non-null object\n",
      "higher        395 non-null object\n",
      "internet      395 non-null object\n",
      "romantic      395 non-null object\n",
      "famrel        395 non-null int64\n",
      "freetime      395 non-null int64\n",
      "goout         395 non-null int64\n",
      "Dalc          395 non-null int64\n",
      "Walc          395 non-null int64\n",
      "health        395 non-null int64\n",
      "absences      395 non-null int64\n",
      "G1            395 non-null int64\n",
      "G2            395 non-null int64\n",
      "G3            395 non-null int64\n",
      "dtypes: int64(16), object(17)\n",
      "memory usage: 101.9+ KB\n"
     ]
    }
   ],
   "source": [
    "# Number of null values.\n",
    "d1.info()"
   ]
  },
  {
   "cell_type": "code",
   "execution_count": 21,
   "metadata": {},
   "outputs": [
    {
     "data": {
      "image/png": "[encoded data removed]",
      "text/plain": [
       "<Figure size 432x288 with 1 Axes>"
      ]
     },
     "metadata": {
      "needs_background": "light"
     },
     "output_type": "display_data"
    },
    {
     "data": {
      "image/png": "[encoded data removed]",
      "text/plain": [
       "<Figure size 432x288 with 1 Axes>"
      ]
     },
     "metadata": {
      "needs_background": "light"
     },
     "output_type": "display_data"
    }
   ],
   "source": [
    "# Check whether a linear relationship exists between:\n",
    "# - The Final grade (dependent variable) and the Workday alcohol consumption (independent variable); and\n",
    "# - The Final grade (dependent variable) and the Weekend alcohol consumption (independent variable)\n",
    "\n",
    "plt.scatter(d1['Dalc'], d1['G3'], color='red')\n",
    "plt.title('Workday alcohol consumption vs Final grade', fontsize=14)\n",
    "plt.xlabel('Workday alcohol consumption', fontsize=14)\n",
    "plt.ylabel('Final grade', fontsize=14)\n",
    "plt.grid(True)\n",
    "plt.show()\n",
    "\n",
    "plt.scatter(d1['Walc'], d1['G3'], color='red')\n",
    "plt.title('Weekend alcohol consumption vs Final grade', fontsize=14)\n",
    "plt.xlabel('Weekend alcohol consumption', fontsize=14)\n",
    "plt.ylabel('Final grade', fontsize=14)\n",
    "plt.grid(True)\n",
    "plt.show()"
   ]
  },
  {
   "cell_type": "markdown",
   "metadata": {},
   "source": [
    "Iš grafikų aukščiau kol kas akivaizdžiai matosi, kad aukščiausius pažymius gauna tie, kurie alkoholį darbo dienomis vartoja mažiau. Alkoholio vartojimas savaitgaliais akivaizdaus šablono neturi.\n",
    "\n",
    "Nemažai atvejų, kai 'alkoholikai' mokosi geriau nei alkoholio beveik nevartojantys.\n",
    "\n",
    "**Trumpai - iš grafikų dar ne visiškai aišku, kaip (ar) mokslų rezultatai priklauso nuo alkoholio vartojimo.**"
   ]
  },
  {
   "cell_type": "code",
   "execution_count": 181,
   "metadata": {},
   "outputs": [
    {
     "data": {
      "text/plain": [
       "['school',\n",
       " 'sex',\n",
       " 'age',\n",
       " 'address',\n",
       " 'famsize',\n",
       " 'Pstatus',\n",
       " 'Medu',\n",
       " 'Fedu',\n",
       " 'Mjob',\n",
       " 'Fjob',\n",
       " 'reason',\n",
       " 'guardian',\n",
       " 'traveltime',\n",
       " 'studytime',\n",
       " 'failures',\n",
       " 'schoolsup',\n",
       " 'famsup',\n",
       " 'paid',\n",
       " 'activities',\n",
       " 'nursery',\n",
       " 'higher',\n",
       " 'internet',\n",
       " 'romantic',\n",
       " 'famrel',\n",
       " 'freetime',\n",
       " 'goout',\n",
       " 'Dalc',\n",
       " 'Walc',\n",
       " 'health',\n",
       " 'absences',\n",
       " 'G1',\n",
       " 'G2',\n",
       " 'G3']"
      ]
     },
     "execution_count": 181,
     "metadata": {},
     "output_type": "execute_result"
    }
   ],
   "source": [
    "# Column list\n",
    "d1.columns.tolist()"
   ]
  },
  {
   "cell_type": "markdown",
   "metadata": {},
   "source": [
    "# Tiesionės regresijos modelis\n",
    "\n",
    "$$\\min_w ||Xw - y||^2_2$$"
   ]
  },
  {
   "cell_type": "markdown",
   "metadata": {},
   "source": [
    "**Modelis be kategorinių kintamųjų**"
   ]
  },
  {
   "cell_type": "code",
   "execution_count": 3,
   "metadata": {},
   "outputs": [
    {
     "name": "stdout",
     "output_type": "stream",
     "text": [
      "Intercept: \n",
      " 15.819972157120654\n",
      "Coefficients: \n",
      " [-0.37880415  0.31208936  0.07500229 -0.55448176  0.29928308 -1.76279197\n",
      "  0.2733752   0.27337528 -0.59621525 -0.03262039  0.2911628  -0.11937624\n",
      "  0.0408884 ]\n"
     ]
    }
   ],
   "source": [
    "# Importing dataset:\n",
    "d1=pd.read_csv('Duomenys.csv')\n",
    "\n",
    "X = d1[['age', 'Medu', 'Fedu', 'traveltime', 'studytime', 'failures', 'famrel', 'freetime', 'goout',\n",
    " 'Dalc', 'Walc', 'health', 'absences']] # G3 kintąjąmjį išmetu, nes jį prognozuoju, G1 ir\n",
    "# G2 išmetu, nes jų nei prognizuoju, nei jie yra reikšmingi mano modelyje.\n",
    "# išmetu ir kategorinius kintamuosius\n",
    "Y = d1['G3'] # Prognozuoju G3\n",
    "\n",
    "# Test and Train data\n",
    "X_train, X_test, Y_train, Y_test = train_test_split(X, Y, test_size = .20, random_state = 40)\n",
    " \n",
    "# With sklearn\n",
    "lr = linear_model.LinearRegression()\n",
    "lr.fit(X_train, Y_train)\n",
    "\n",
    "print('Intercept: \\n', lr.intercept_)\n",
    "print('Coefficients: \\n', lr.coef_)"
   ]
  },
  {
   "cell_type": "code",
   "execution_count": 4,
   "metadata": {},
   "outputs": [
    {
     "name": "stderr",
     "output_type": "stream",
     "text": [
      "C:\\Users\\Robertas\\Anaconda3\\lib\\site-packages\\numpy\\core\\fromnumeric.py:2389: FutureWarning: Method .ptp is deprecated and will be removed in a future version. Use numpy.ptp instead.\n",
      "  return ptp(axis=axis, out=out, **kwargs)\n"
     ]
    },
    {
     "name": "stdout",
     "output_type": "stream",
     "text": [
      "                            OLS Regression Results                            \n",
      "==============================================================================\n",
      "Dep. Variable:                     G3   R-squared:                       0.172\n",
      "Model:                            OLS   Adj. R-squared:                  0.136\n",
      "Method:                 Least Squares   F-statistic:                     4.830\n",
      "Date:                Thu, 28 Nov 2019   Prob (F-statistic):           1.16e-07\n",
      "Time:                        13:19:38   Log-Likelihood:                -901.35\n",
      "No. Observations:                 316   AIC:                             1831.\n",
      "Df Residuals:                     302   BIC:                             1883.\n",
      "Df Model:                          13                                         \n",
      "Covariance Type:            nonrobust                                         \n",
      "==============================================================================\n",
      "                 coef    std err          t      P>|t|      [0.025      0.975]\n",
      "------------------------------------------------------------------------------\n",
      "const         15.8200      3.748      4.220      0.000       8.444      23.196\n",
      "age           -0.3788      0.200     -1.890      0.060      -0.773       0.016\n",
      "Medu           0.3121      0.295      1.057      0.291      -0.269       0.893\n",
      "Fedu           0.0750      0.289      0.259      0.796      -0.494       0.644\n",
      "traveltime    -0.5545      0.353     -1.571      0.117      -1.249       0.140\n",
      "studytime      0.2993      0.314      0.952      0.342      -0.319       0.918\n",
      "failures      -1.7628      0.355     -4.960      0.000      -2.462      -1.063\n",
      "famrel         0.2734      0.279      0.981      0.328      -0.275       0.822\n",
      "freetime       0.2734      0.266      1.028      0.305      -0.250       0.797\n",
      "goout         -0.5962      0.253     -2.354      0.019      -1.095      -0.098\n",
      "Dalc          -0.0326      0.368     -0.089      0.929      -0.757       0.692\n",
      "Walc           0.2912      0.279      1.044      0.297      -0.258       0.840\n",
      "health        -0.1194      0.178     -0.672      0.502      -0.469       0.230\n",
      "absences       0.0409      0.030      1.385      0.167      -0.017       0.099\n",
      "==============================================================================\n",
      "Omnibus:                       17.775   Durbin-Watson:                   1.863\n",
      "Prob(Omnibus):                  0.000   Jarque-Bera (JB):               19.331\n",
      "Skew:                          -0.600   Prob(JB):                     6.34e-05\n",
      "Kurtosis:                       3.165   Cond. No.                         313.\n",
      "==============================================================================\n",
      "\n",
      "Warnings:\n",
      "[1] Standard Errors assume that the covariance matrix of the errors is correctly specified.\n"
     ]
    }
   ],
   "source": [
    "# With statsmodels\n",
    "X_train = sm.add_constant(X_train) # adding a constant\n",
    " \n",
    "model = sm.OLS(Y_train, X_train).fit()\n",
    "predictions = model.predict(X_train) \n",
    " \n",
    "print_model = model.summary()\n",
    "print(print_model)"
   ]
  },
  {
   "cell_type": "code",
   "execution_count": 5,
   "metadata": {
    "scrolled": true
   },
   "outputs": [
    {
     "name": "stdout",
     "output_type": "stream",
     "text": [
      "RMSE = 0.59\n"
     ]
    }
   ],
   "source": [
    "pred = lr.predict(X_test) \n",
    "\n",
    "print('RMSE = {0:.02f}'.format(np.sqrt(np.mean(pred - Y_test)**2)))   # pred - y_test"
   ]
  },
  {
   "cell_type": "code",
   "execution_count": 213,
   "metadata": {},
   "outputs": [
    {
     "data": {
      "text/plain": [
       "['const',\n",
       " 'age',\n",
       " 'Medu',\n",
       " 'Fedu',\n",
       " 'traveltime',\n",
       " 'studytime',\n",
       " 'failures',\n",
       " 'famrel',\n",
       " 'freetime',\n",
       " 'goout',\n",
       " 'Dalc',\n",
       " 'Walc',\n",
       " 'health',\n",
       " 'absences']"
      ]
     },
     "execution_count": 213,
     "metadata": {},
     "output_type": "execute_result"
    }
   ],
   "source": [
    "X_train.columns.tolist()"
   ]
  },
  {
   "cell_type": "code",
   "execution_count": 6,
   "metadata": {},
   "outputs": [
    {
     "data": {
      "text/plain": [
       "<matplotlib.axes._subplots.AxesSubplot at 0x200ba5533c8>"
      ]
     },
     "execution_count": 6,
     "metadata": {},
     "output_type": "execute_result"
    },
    {
     "data": {
      "image/png": "[encoded data removed]",
      "text/plain": [
       "<Figure size 432x288 with 1 Axes>"
      ]
     },
     "metadata": {
      "needs_background": "light"
     },
     "output_type": "display_data"
    }
   ],
   "source": [
    "pd.DataFrame(lr.coef_, index=['age', 'Medu', 'Fedu', 'traveltime', 'studytime', 'failures', 'famrel', 'freetime',\n",
    " 'goout', 'Dalc', 'Walc', 'health', 'absences'], columns=['coeficient']).plot(kind='bar')"
   ]
  },
  {
   "cell_type": "markdown",
   "metadata": {},
   "source": [
    "Šiuo atveju alkoholio vartojimas nėra pats svarbiausias kintamasis. Darbo dienomis suvartojamas alkoholio kiekis bene nereikšmingiausias kintamasis.\n",
    "\n",
    "Ypač pažymį lemia nesėkmės įvairiuose atsiskaitymuose mokslo metų eigoje."
   ]
  },
  {
   "cell_type": "markdown",
   "metadata": {},
   "source": [
    "**Modelis su kategoriniais kintamaisiais**"
   ]
  },
  {
   "cell_type": "code",
   "execution_count": 3,
   "metadata": {},
   "outputs": [],
   "source": [
    "# Importing dataset:\n",
    "d1=pd.read_csv('Duomenys.csv')\n",
    "\n",
    "# Tvarkau duomenis - dvireikšmius kategorinius kintamuosius.\n",
    "d1['school'] = d1['school'].map({'GP': 1, 'MS': 0})\n",
    "d1['sex'] = d1['sex'].map({'M': 1, 'F': 0})\n",
    "d1['address'] = d1['address'].map({'U': 1, 'R': 0})\n",
    "d1['famsize'] = d1['famsize'].map({'GT3': 1, 'LE3': 0})\n",
    "d1['Pstatus'] = d1['Pstatus'].map({'T': 1, 'A': 0})\n",
    "d1['schoolsup'] = d1['schoolsup'].map({'yes': 1, 'no': 0})\n",
    "d1['famsup'] = d1['famsup'].map({'yes': 1, 'no': 0})\n",
    "d1['paid'] = d1['paid'].map({'yes': 1, 'no': 0})\n",
    "d1['activities'] = d1['activities'].map({'yes': 1, 'no': 0})\n",
    "d1['nursery'] = d1['nursery'].map({'yes': 1, 'no': 0})\n",
    "d1['higher'] = d1['higher'].map({'yes': 1, 'no': 0})\n",
    "d1['internet'] = d1['internet'].map({'yes': 1, 'no': 0})\n",
    "d1['romantic'] = d1['romantic'].map({'yes': 1, 'no': 0})"
   ]
  },
  {
   "cell_type": "code",
   "execution_count": 186,
   "metadata": {},
   "outputs": [
    {
     "data": {
      "text/plain": [
       "school         int64\n",
       "sex            int64\n",
       "age            int64\n",
       "address        int64\n",
       "famsize        int64\n",
       "Pstatus        int64\n",
       "Medu           int64\n",
       "Fedu           int64\n",
       "Mjob          object\n",
       "Fjob          object\n",
       "reason        object\n",
       "guardian      object\n",
       "traveltime     int64\n",
       "studytime      int64\n",
       "failures       int64\n",
       "schoolsup      int64\n",
       "famsup         int64\n",
       "paid           int64\n",
       "activities     int64\n",
       "nursery        int64\n",
       "higher         int64\n",
       "internet       int64\n",
       "romantic       int64\n",
       "famrel         int64\n",
       "freetime       int64\n",
       "goout          int64\n",
       "Dalc           int64\n",
       "Walc           int64\n",
       "health         int64\n",
       "absences       int64\n",
       "G1             int64\n",
       "G2             int64\n",
       "G3             int64\n",
       "dtype: object"
      ]
     },
     "execution_count": 186,
     "metadata": {},
     "output_type": "execute_result"
    }
   ],
   "source": [
    "# Data type of each column after transformation\n",
    "d1.dtypes"
   ]
  },
  {
   "cell_type": "code",
   "execution_count": 240,
   "metadata": {
    "collapsed": true
   },
   "outputs": [
    {
     "data": {
      "image/png": "[encoded data removed]",
      "text/plain": [
       "<Figure size 1152x864 with 30 Axes>"
      ]
     },
     "metadata": {
      "needs_background": "light"
     },
     "output_type": "display_data"
    }
   ],
   "source": [
    "d1.hist(column=['school', 'sex', 'age', 'address', 'famsize', 'Pstatus', 'Medu', 'Fedu', 'traveltime', 'studytime', 'failures',\n",
    "                'schoolsup', 'famsup', 'paid', 'activities', 'nursery', 'higher', 'internet', 'romantic', 'famrel', 'freetime',\n",
    "                'goout', 'Dalc', 'Walc', 'health', 'absences', 'G1', 'G2', 'G3'] ,bins=20, figsize=(16,12))\n",
    "plt.show()"
   ]
  },
  {
   "cell_type": "code",
   "execution_count": 188,
   "metadata": {
    "collapsed": true
   },
   "outputs": [
    {
     "data": {
      "image/png": "[encoded data removed]",
      "text/plain": [
       "<Figure size 432x288 with 4 Axes>"
      ]
     },
     "metadata": {
      "needs_background": "light"
     },
     "output_type": "display_data"
    }
   ],
   "source": [
    "categ = ['Mjob', 'Fjob', 'reason', 'guardian']\n",
    "fig, ax = plt.subplots(1, len(categ))\n",
    "for i, categorical_feature in enumerate(d1[categ]):\n",
    "    d1[categorical_feature].value_counts().plot(\"bar\", ax=ax[i]).set_title(categorical_feature)"
   ]
  },
  {
   "cell_type": "code",
   "execution_count": 4,
   "metadata": {},
   "outputs": [],
   "source": [
    "#Tvarkau likusius kategorinius kintamuosius.\n",
    "d1=pd.get_dummies(d1, columns=[\"Mjob\", \"Fjob\", \"reason\", \"guardian\"], prefix=[\"Mjob\", \"Fjob\", \"reason\", \"guardian\"], \n",
    "                  drop_first=True)"
   ]
  },
  {
   "cell_type": "code",
   "execution_count": 190,
   "metadata": {
    "collapsed": true
   },
   "outputs": [
    {
     "data": {
      "text/plain": [
       "school               int64\n",
       "sex                  int64\n",
       "age                  int64\n",
       "address              int64\n",
       "famsize              int64\n",
       "Pstatus              int64\n",
       "Medu                 int64\n",
       "Fedu                 int64\n",
       "traveltime           int64\n",
       "studytime            int64\n",
       "failures             int64\n",
       "schoolsup            int64\n",
       "famsup               int64\n",
       "paid                 int64\n",
       "activities           int64\n",
       "nursery              int64\n",
       "higher               int64\n",
       "internet             int64\n",
       "romantic             int64\n",
       "famrel               int64\n",
       "freetime             int64\n",
       "goout                int64\n",
       "Dalc                 int64\n",
       "Walc                 int64\n",
       "health               int64\n",
       "absences             int64\n",
       "G1                   int64\n",
       "G2                   int64\n",
       "G3                   int64\n",
       "Mjob_at_home         uint8\n",
       "Mjob_health          uint8\n",
       "Mjob_other           uint8\n",
       "Mjob_services        uint8\n",
       "Mjob_teacher         uint8\n",
       "Fjob_at_home         uint8\n",
       "Fjob_health          uint8\n",
       "Fjob_other           uint8\n",
       "Fjob_services        uint8\n",
       "Fjob_teacher         uint8\n",
       "reason_course        uint8\n",
       "reason_home          uint8\n",
       "reason_other         uint8\n",
       "reason_reputation    uint8\n",
       "guardian_father      uint8\n",
       "guardian_mother      uint8\n",
       "guardian_other       uint8\n",
       "dtype: object"
      ]
     },
     "execution_count": 190,
     "metadata": {},
     "output_type": "execute_result"
    }
   ],
   "source": [
    "# Data type of each column after transformation\n",
    "d1.dtypes"
   ]
  },
  {
   "cell_type": "code",
   "execution_count": 199,
   "metadata": {
    "collapsed": true
   },
   "outputs": [
    {
     "data": {
      "text/plain": [
       "(395, 42)"
      ]
     },
     "execution_count": 199,
     "metadata": {},
     "output_type": "execute_result"
    }
   ],
   "source": [
    "# Shape of d1 after transformation\n",
    "d1.shape"
   ]
  },
  {
   "cell_type": "code",
   "execution_count": 192,
   "metadata": {
    "collapsed": true
   },
   "outputs": [
    {
     "data": {
      "text/html": [
       "<div>\n",
       "<style scoped>\n",
       "    .dataframe tbody tr th:only-of-type {\n",
       "        vertical-align: middle;\n",
       "    }\n",
       "\n",
       "    .dataframe tbody tr th {\n",
       "        vertical-align: top;\n",
       "    }\n",
       "\n",
       "    .dataframe thead th {\n",
       "        text-align: right;\n",
       "    }\n",
       "</style>\n",
       "<table border=\"1\" class=\"dataframe\">\n",
       "  <thead>\n",
       "    <tr style=\"text-align: right;\">\n",
       "      <th></th>\n",
       "      <th>school</th>\n",
       "      <th>sex</th>\n",
       "      <th>age</th>\n",
       "      <th>address</th>\n",
       "      <th>famsize</th>\n",
       "      <th>Pstatus</th>\n",
       "      <th>Medu</th>\n",
       "      <th>Fedu</th>\n",
       "      <th>traveltime</th>\n",
       "      <th>studytime</th>\n",
       "      <th>...</th>\n",
       "      <th>Fjob_other</th>\n",
       "      <th>Fjob_services</th>\n",
       "      <th>Fjob_teacher</th>\n",
       "      <th>reason_course</th>\n",
       "      <th>reason_home</th>\n",
       "      <th>reason_other</th>\n",
       "      <th>reason_reputation</th>\n",
       "      <th>guardian_father</th>\n",
       "      <th>guardian_mother</th>\n",
       "      <th>guardian_other</th>\n",
       "    </tr>\n",
       "  </thead>\n",
       "  <tbody>\n",
       "    <tr>\n",
       "      <th>0</th>\n",
       "      <td>1</td>\n",
       "      <td>0</td>\n",
       "      <td>18</td>\n",
       "      <td>1</td>\n",
       "      <td>1</td>\n",
       "      <td>0</td>\n",
       "      <td>4</td>\n",
       "      <td>4</td>\n",
       "      <td>2</td>\n",
       "      <td>2</td>\n",
       "      <td>...</td>\n",
       "      <td>0</td>\n",
       "      <td>0</td>\n",
       "      <td>1</td>\n",
       "      <td>1</td>\n",
       "      <td>0</td>\n",
       "      <td>0</td>\n",
       "      <td>0</td>\n",
       "      <td>0</td>\n",
       "      <td>1</td>\n",
       "      <td>0</td>\n",
       "    </tr>\n",
       "    <tr>\n",
       "      <th>1</th>\n",
       "      <td>1</td>\n",
       "      <td>0</td>\n",
       "      <td>17</td>\n",
       "      <td>1</td>\n",
       "      <td>1</td>\n",
       "      <td>1</td>\n",
       "      <td>1</td>\n",
       "      <td>1</td>\n",
       "      <td>1</td>\n",
       "      <td>2</td>\n",
       "      <td>...</td>\n",
       "      <td>1</td>\n",
       "      <td>0</td>\n",
       "      <td>0</td>\n",
       "      <td>1</td>\n",
       "      <td>0</td>\n",
       "      <td>0</td>\n",
       "      <td>0</td>\n",
       "      <td>1</td>\n",
       "      <td>0</td>\n",
       "      <td>0</td>\n",
       "    </tr>\n",
       "    <tr>\n",
       "      <th>2</th>\n",
       "      <td>1</td>\n",
       "      <td>0</td>\n",
       "      <td>15</td>\n",
       "      <td>1</td>\n",
       "      <td>0</td>\n",
       "      <td>1</td>\n",
       "      <td>1</td>\n",
       "      <td>1</td>\n",
       "      <td>1</td>\n",
       "      <td>2</td>\n",
       "      <td>...</td>\n",
       "      <td>1</td>\n",
       "      <td>0</td>\n",
       "      <td>0</td>\n",
       "      <td>0</td>\n",
       "      <td>0</td>\n",
       "      <td>1</td>\n",
       "      <td>0</td>\n",
       "      <td>0</td>\n",
       "      <td>1</td>\n",
       "      <td>0</td>\n",
       "    </tr>\n",
       "    <tr>\n",
       "      <th>3</th>\n",
       "      <td>1</td>\n",
       "      <td>0</td>\n",
       "      <td>15</td>\n",
       "      <td>1</td>\n",
       "      <td>1</td>\n",
       "      <td>1</td>\n",
       "      <td>4</td>\n",
       "      <td>2</td>\n",
       "      <td>1</td>\n",
       "      <td>3</td>\n",
       "      <td>...</td>\n",
       "      <td>0</td>\n",
       "      <td>1</td>\n",
       "      <td>0</td>\n",
       "      <td>0</td>\n",
       "      <td>1</td>\n",
       "      <td>0</td>\n",
       "      <td>0</td>\n",
       "      <td>0</td>\n",
       "      <td>1</td>\n",
       "      <td>0</td>\n",
       "    </tr>\n",
       "    <tr>\n",
       "      <th>4</th>\n",
       "      <td>1</td>\n",
       "      <td>0</td>\n",
       "      <td>16</td>\n",
       "      <td>1</td>\n",
       "      <td>1</td>\n",
       "      <td>1</td>\n",
       "      <td>3</td>\n",
       "      <td>3</td>\n",
       "      <td>1</td>\n",
       "      <td>2</td>\n",
       "      <td>...</td>\n",
       "      <td>1</td>\n",
       "      <td>0</td>\n",
       "      <td>0</td>\n",
       "      <td>0</td>\n",
       "      <td>1</td>\n",
       "      <td>0</td>\n",
       "      <td>0</td>\n",
       "      <td>1</td>\n",
       "      <td>0</td>\n",
       "      <td>0</td>\n",
       "    </tr>\n",
       "  </tbody>\n",
       "</table>\n",
       "<p>5 rows × 46 columns</p>\n",
       "</div>"
      ],
      "text/plain": [
       "   school  sex  age  address  famsize  Pstatus  Medu  Fedu  traveltime  \\\n",
       "0       1    0   18        1        1        0     4     4           2   \n",
       "1       1    0   17        1        1        1     1     1           1   \n",
       "2       1    0   15        1        0        1     1     1           1   \n",
       "3       1    0   15        1        1        1     4     2           1   \n",
       "4       1    0   16        1        1        1     3     3           1   \n",
       "\n",
       "   studytime  ...  Fjob_other  Fjob_services  Fjob_teacher  reason_course  \\\n",
       "0          2  ...           0              0             1              1   \n",
       "1          2  ...           1              0             0              1   \n",
       "2          2  ...           1              0             0              0   \n",
       "3          3  ...           0              1             0              0   \n",
       "4          2  ...           1              0             0              0   \n",
       "\n",
       "   reason_home  reason_other  reason_reputation  guardian_father  \\\n",
       "0            0             0                  0                0   \n",
       "1            0             0                  0                1   \n",
       "2            0             1                  0                0   \n",
       "3            1             0                  0                0   \n",
       "4            1             0                  0                1   \n",
       "\n",
       "   guardian_mother  guardian_other  \n",
       "0                1               0  \n",
       "1                0               0  \n",
       "2                1               0  \n",
       "3                1               0  \n",
       "4                0               0  \n",
       "\n",
       "[5 rows x 46 columns]"
      ]
     },
     "execution_count": 192,
     "metadata": {},
     "output_type": "execute_result"
    }
   ],
   "source": [
    "# Dataset after transformation\n",
    "d1.head()"
   ]
  },
  {
   "cell_type": "code",
   "execution_count": 193,
   "metadata": {
    "collapsed": true
   },
   "outputs": [
    {
     "data": {
      "text/plain": [
       "['school',\n",
       " 'sex',\n",
       " 'age',\n",
       " 'address',\n",
       " 'famsize',\n",
       " 'Pstatus',\n",
       " 'Medu',\n",
       " 'Fedu',\n",
       " 'traveltime',\n",
       " 'studytime',\n",
       " 'failures',\n",
       " 'schoolsup',\n",
       " 'famsup',\n",
       " 'paid',\n",
       " 'activities',\n",
       " 'nursery',\n",
       " 'higher',\n",
       " 'internet',\n",
       " 'romantic',\n",
       " 'famrel',\n",
       " 'freetime',\n",
       " 'goout',\n",
       " 'Dalc',\n",
       " 'Walc',\n",
       " 'health',\n",
       " 'absences',\n",
       " 'G1',\n",
       " 'G2',\n",
       " 'G3',\n",
       " 'Mjob_at_home',\n",
       " 'Mjob_health',\n",
       " 'Mjob_other',\n",
       " 'Mjob_services',\n",
       " 'Mjob_teacher',\n",
       " 'Fjob_at_home',\n",
       " 'Fjob_health',\n",
       " 'Fjob_other',\n",
       " 'Fjob_services',\n",
       " 'Fjob_teacher',\n",
       " 'reason_course',\n",
       " 'reason_home',\n",
       " 'reason_other',\n",
       " 'reason_reputation',\n",
       " 'guardian_father',\n",
       " 'guardian_mother',\n",
       " 'guardian_other']"
      ]
     },
     "execution_count": 193,
     "metadata": {},
     "output_type": "execute_result"
    }
   ],
   "source": [
    "# Column list after transformation\n",
    "d1.columns.tolist()"
   ]
  },
  {
   "cell_type": "code",
   "execution_count": 6,
   "metadata": {
    "collapsed": true
   },
   "outputs": [
    {
     "name": "stdout",
     "output_type": "stream",
     "text": [
      "Intercept: \n",
      " 16.515547690962336\n",
      "Coefficients: \n",
      " [-0.6879941   1.98806008 -0.44858168  1.02377142 -0.4594246  -0.46249174\n",
      "  0.15556825  0.10874881 -0.25653459  0.64556608 -1.65953604 -0.94042591\n",
      " -0.69082961  0.21141089 -0.38445894 -0.08279663  1.61339245  0.57459392\n",
      " -1.14352202  0.12471082  0.15892007 -0.55238316 -0.17739516  0.13775681\n",
      " -0.10665675  0.06565028  0.80648221 -0.16244308  0.45798483 -1.11082653\n",
      " -0.85327885 -1.29540106 -0.95306067  0.16368931 -0.14646815  1.62150839\n",
      "  0.49171218  0.36837628  1.11422649]\n"
     ]
    }
   ],
   "source": [
    "X = d1.drop(['G1', 'G2', 'G3'], axis=1) \n",
    "Y = d1['G3']\n",
    "\n",
    "# Test and Train data\n",
    "X_train, X_test, Y_train, Y_test = train_test_split(X, Y, test_size = .20, random_state = 40)\n",
    " \n",
    "# With sklearn\n",
    "lr = linear_model.LinearRegression()\n",
    "lr.fit(X_train, Y_train)\n",
    "\n",
    "print('Intercept: \\n', lr.intercept_)\n",
    "print('Coefficients: \\n', lr.coef_)"
   ]
  },
  {
   "cell_type": "code",
   "execution_count": 7,
   "metadata": {
    "collapsed": true
   },
   "outputs": [
    {
     "name": "stdout",
     "output_type": "stream",
     "text": [
      "                            OLS Regression Results                            \n",
      "==============================================================================\n",
      "Dep. Variable:                     G3   R-squared:                       0.281\n",
      "Model:                            OLS   Adj. R-squared:                  0.179\n",
      "Method:                 Least Squares   F-statistic:                     2.761\n",
      "Date:                Thu, 28 Nov 2019   Prob (F-statistic):           8.16e-07\n",
      "Time:                        14:24:16   Log-Likelihood:                -879.15\n",
      "No. Observations:                 316   AIC:                             1838.\n",
      "Df Residuals:                     276   BIC:                             1989.\n",
      "Df Model:                          39                                         \n",
      "Covariance Type:            nonrobust                                         \n",
      "=====================================================================================\n",
      "                        coef    std err          t      P>|t|      [0.025      0.975]\n",
      "-------------------------------------------------------------------------------------\n",
      "const                16.5155      5.327      3.100      0.002       6.029      27.002\n",
      "school               -0.6880      0.909     -0.757      0.450      -2.477       1.101\n",
      "sex                   1.9881      0.573      3.469      0.001       0.860       3.116\n",
      "age                  -0.4486      0.243     -1.844      0.066      -0.927       0.030\n",
      "address               1.0238      0.685      1.495      0.136      -0.324       2.372\n",
      "famsize              -0.4594      0.579     -0.793      0.429      -1.600       0.681\n",
      "Pstatus              -0.4625      0.796     -0.581      0.562      -2.030       1.105\n",
      "Medu                  0.1556      0.379      0.411      0.681      -0.590       0.901\n",
      "Fedu                  0.1087      0.318      0.341      0.733      -0.518       0.736\n",
      "traveltime           -0.2565      0.380     -0.675      0.500      -1.005       0.492\n",
      "studytime             0.6456      0.335      1.928      0.055      -0.014       1.305\n",
      "failures             -1.6595      0.386     -4.300      0.000      -2.419      -0.900\n",
      "schoolsup            -0.9404      0.769     -1.223      0.222      -2.454       0.573\n",
      "famsup               -0.6908      0.562     -1.229      0.220      -1.797       0.415\n",
      "paid                  0.2114      0.549      0.385      0.700      -0.869       1.292\n",
      "activities           -0.3845      0.517     -0.744      0.458      -1.402       0.633\n",
      "nursery              -0.0828      0.625     -0.132      0.895      -1.314       1.148\n",
      "higher                1.6134      1.180      1.368      0.173      -0.709       3.936\n",
      "internet              0.5746      0.703      0.817      0.414      -0.809       1.958\n",
      "romantic             -1.1435      0.534     -2.143      0.033      -2.194      -0.093\n",
      "famrel                0.1247      0.282      0.442      0.659      -0.431       0.680\n",
      "freetime              0.1589      0.274      0.581      0.562      -0.380       0.698\n",
      "goout                -0.5524      0.257     -2.153      0.032      -1.057      -0.047\n",
      "Dalc                 -0.1774      0.387     -0.459      0.647      -0.939       0.584\n",
      "Walc                  0.1378      0.295      0.467      0.641      -0.443       0.718\n",
      "health               -0.1067      0.184     -0.581      0.562      -0.468       0.255\n",
      "absences              0.0657      0.031      2.103      0.036       0.004       0.127\n",
      "Mjob_health           0.8065      1.293      0.624      0.533      -1.740       3.352\n",
      "Mjob_other           -0.1624      0.798     -0.204      0.839      -1.734       1.409\n",
      "Mjob_services         0.4580      0.898      0.510      0.611      -1.310       2.226\n",
      "Mjob_teacher         -1.1108      1.200     -0.925      0.356      -3.474       1.252\n",
      "Fjob_health          -0.8533      1.564     -0.545      0.586      -3.933       2.226\n",
      "Fjob_other           -1.2954      1.117     -1.159      0.247      -3.495       0.904\n",
      "Fjob_services        -0.9531      1.170     -0.815      0.416      -3.257       1.350\n",
      "Fjob_teacher          0.1637      1.436      0.114      0.909      -2.664       2.991\n",
      "reason_home          -0.1465      0.646     -0.227      0.821      -1.418       1.125\n",
      "reason_other          1.6215      0.911      1.780      0.076      -0.172       3.415\n",
      "reason_reputation     0.4917      0.674      0.730      0.466      -0.835       1.819\n",
      "guardian_mother       0.3684      0.640      0.576      0.565      -0.891       1.628\n",
      "guardian_other        1.1142      1.120      0.995      0.321      -1.091       3.320\n",
      "==============================================================================\n",
      "Omnibus:                       17.287   Durbin-Watson:                   1.771\n",
      "Prob(Omnibus):                  0.000   Jarque-Bera (JB):               18.825\n",
      "Skew:                          -0.595   Prob(JB):                     8.17e-05\n",
      "Kurtosis:                       3.111   Cond. No.                         466.\n",
      "==============================================================================\n",
      "\n",
      "Warnings:\n",
      "[1] Standard Errors assume that the covariance matrix of the errors is correctly specified.\n"
     ]
    },
    {
     "name": "stderr",
     "output_type": "stream",
     "text": [
      "C:\\Users\\Robertas\\Anaconda3\\lib\\site-packages\\numpy\\core\\fromnumeric.py:2389: FutureWarning: Method .ptp is deprecated and will be removed in a future version. Use numpy.ptp instead.\n",
      "  return ptp(axis=axis, out=out, **kwargs)\n"
     ]
    }
   ],
   "source": [
    "# With statsmodels\n",
    "X_train = sm.add_constant(X_train) # Intercept\n",
    " \n",
    "model = sm.OLS(Y_train, X_train).fit()\n",
    "predictions = model.predict(X_train) \n",
    " \n",
    "print_model = model.summary()\n",
    "print(print_model)"
   ]
  },
  {
   "cell_type": "code",
   "execution_count": 8,
   "metadata": {},
   "outputs": [
    {
     "name": "stdout",
     "output_type": "stream",
     "text": [
      "RMSE = 0.56\n"
     ]
    }
   ],
   "source": [
    "pred = lr.predict(X_test) \n",
    "\n",
    "print('RMSE = {0:.02f}'.format(np.sqrt(np.mean(pred - Y_test)**2)))   # pred - y_test"
   ]
  },
  {
   "cell_type": "code",
   "execution_count": 221,
   "metadata": {
    "collapsed": true
   },
   "outputs": [
    {
     "data": {
      "text/plain": [
       "['const',\n",
       " 'school',\n",
       " 'sex',\n",
       " 'age',\n",
       " 'address',\n",
       " 'famsize',\n",
       " 'Pstatus',\n",
       " 'Medu',\n",
       " 'Fedu',\n",
       " 'traveltime',\n",
       " 'studytime',\n",
       " 'failures',\n",
       " 'schoolsup',\n",
       " 'famsup',\n",
       " 'paid',\n",
       " 'activities',\n",
       " 'nursery',\n",
       " 'higher',\n",
       " 'internet',\n",
       " 'romantic',\n",
       " 'famrel',\n",
       " 'freetime',\n",
       " 'goout',\n",
       " 'Dalc',\n",
       " 'Walc',\n",
       " 'health',\n",
       " 'absences',\n",
       " 'Mjob_health',\n",
       " 'Mjob_other',\n",
       " 'Mjob_services',\n",
       " 'Mjob_teacher',\n",
       " 'Fjob_health',\n",
       " 'Fjob_other',\n",
       " 'Fjob_services',\n",
       " 'Fjob_teacher',\n",
       " 'reason_home',\n",
       " 'reason_other',\n",
       " 'reason_reputation',\n",
       " 'guardian_mother',\n",
       " 'guardian_other']"
      ]
     },
     "execution_count": 221,
     "metadata": {},
     "output_type": "execute_result"
    }
   ],
   "source": [
    "X_train.columns.tolist()"
   ]
  },
  {
   "cell_type": "code",
   "execution_count": 12,
   "metadata": {
    "collapsed": true
   },
   "outputs": [
    {
     "data": {
      "text/plain": [
       "<matplotlib.axes._subplots.AxesSubplot at 0x200ba6d3d30>"
      ]
     },
     "execution_count": 12,
     "metadata": {},
     "output_type": "execute_result"
    },
    {
     "data": {
      "image/png": "[encoded data removed]",
      "text/plain": [
       "<Figure size 432x288 with 1 Axes>"
      ]
     },
     "metadata": {
      "needs_background": "light"
     },
     "output_type": "display_data"
    }
   ],
   "source": [
    "pd.DataFrame(lr.coef_, index=['school', 'sex', 'age', 'address', 'famsize', 'Pstatus', 'Medu', 'Fedu', 'traveltime',\n",
    " 'studytime', 'failures', 'schoolsup', 'famsup', 'paid', 'activities', 'nursery', 'higher', 'internet', 'romantic', 'famrel',\n",
    " 'freetime', 'goout', 'Dalc', 'Walc', 'health', 'absences', 'Mjob_health', 'Mjob_other', 'Mjob_services', 'Mjob_teacher',\n",
    " 'Fjob_health', 'Fjob_other', 'Fjob_services', 'Fjob_teacher', 'reason_home', 'reason_other', 'reason_reputation',\n",
    " 'guardian_mother', 'guardian_other'], columns=['coeficient']).plot(kind='bar')"
   ]
  },
  {
   "cell_type": "code",
   "execution_count": null,
   "metadata": {},
   "outputs": [],
   "source": [
    "Ir šiuo atveju alkoholio vartojimas turi bene mažiausiai įtakos galutiniam metiniam pažymiui."
   ]
  },
  {
   "cell_type": "markdown",
   "metadata": {},
   "source": [
    "**Modelis, kuriame išmeti *x_other* kintamieji**"
   ]
  },
  {
   "cell_type": "code",
   "execution_count": 33,
   "metadata": {
    "collapsed": true
   },
   "outputs": [
    {
     "name": "stdout",
     "output_type": "stream",
     "text": [
      "Intercept: \n",
      " 15.168860451123779\n",
      "Coefficients: \n",
      " [-0.77815019  1.92621504 -0.37808336  1.04245448 -0.42162897 -0.48024593\n",
      "  0.08695737  0.13252828 -0.31454759  0.5869862  -1.62511441 -0.90807696\n",
      " -0.68036271  0.27142816 -0.34735577 -0.05269362  1.4880803   0.60136687\n",
      " -1.0009617   0.11705264  0.19516531 -0.59671207 -0.07756903  0.07761958\n",
      " -0.16121046  0.06983654  1.20972992  0.6981021  -0.90256273  0.50226413\n",
      "  0.23988597  1.41713774 -0.49899013  0.11604207  0.1096533 ]\n"
     ]
    }
   ],
   "source": [
    "X = d1.drop(['G1', 'G2', 'G3', 'Mjob_other', 'Fjob_other', 'reason_other', 'guardian_other'], axis=1) \n",
    "Y = d1['G3']\n",
    "\n",
    "# Test and Train data\n",
    "X_train, X_test, Y_train, Y_test = train_test_split(X, Y, test_size = .20, random_state = 40)\n",
    " \n",
    "# With sklearn\n",
    "lr = linear_model.LinearRegression()\n",
    "lr.fit(X_train, Y_train)\n",
    "\n",
    "print('Intercept: \\n', lr.intercept_)\n",
    "print('Coefficients: \\n', lr.coef_)"
   ]
  },
  {
   "cell_type": "code",
   "execution_count": 34,
   "metadata": {
    "scrolled": true
   },
   "outputs": [
    {
     "name": "stdout",
     "output_type": "stream",
     "text": [
      "RMSE = 0.45\n"
     ]
    }
   ],
   "source": [
    "pred = lr.predict(X_test) \n",
    "\n",
    "print('RMSE = {0:.02f}'.format(np.sqrt(np.mean(pred - Y_test)**2)))"
   ]
  },
  {
   "cell_type": "code",
   "execution_count": 268,
   "metadata": {
    "collapsed": true
   },
   "outputs": [
    {
     "data": {
      "text/plain": [
       "['school',\n",
       " 'sex',\n",
       " 'age',\n",
       " 'address',\n",
       " 'famsize',\n",
       " 'Pstatus',\n",
       " 'Medu',\n",
       " 'Fedu',\n",
       " 'traveltime',\n",
       " 'studytime',\n",
       " 'failures',\n",
       " 'schoolsup',\n",
       " 'famsup',\n",
       " 'paid',\n",
       " 'activities',\n",
       " 'nursery',\n",
       " 'higher',\n",
       " 'internet',\n",
       " 'romantic',\n",
       " 'famrel',\n",
       " 'freetime',\n",
       " 'goout',\n",
       " 'Dalc',\n",
       " 'Walc',\n",
       " 'health',\n",
       " 'absences',\n",
       " 'Mjob_health',\n",
       " 'Mjob_services',\n",
       " 'Mjob_teacher',\n",
       " 'Fjob_health',\n",
       " 'Fjob_services',\n",
       " 'Fjob_teacher',\n",
       " 'reason_home',\n",
       " 'reason_reputation',\n",
       " 'guardian_mother']"
      ]
     },
     "execution_count": 268,
     "metadata": {},
     "output_type": "execute_result"
    }
   ],
   "source": [
    "X_train.columns.tolist()"
   ]
  },
  {
   "cell_type": "code",
   "execution_count": 17,
   "metadata": {},
   "outputs": [
    {
     "data": {
      "text/plain": [
       "<matplotlib.axes._subplots.AxesSubplot at 0x200bb31b518>"
      ]
     },
     "execution_count": 17,
     "metadata": {},
     "output_type": "execute_result"
    },
    {
     "data": {
      "image/png": "[encoded data removed]",
      "text/plain": [
       "<Figure size 432x288 with 1 Axes>"
      ]
     },
     "metadata": {
      "needs_background": "light"
     },
     "output_type": "display_data"
    }
   ],
   "source": [
    "pd.DataFrame(lr.coef_, index=['school', 'sex', 'age', 'address', 'famsize', 'Pstatus', 'Medu', 'Fedu', 'traveltime',\n",
    " 'studytime', 'failures', 'schoolsup', 'famsup', 'paid', 'activities', 'nursery', 'higher', 'internet', 'romantic', 'famrel',\n",
    " 'freetime', 'goout', 'Dalc', 'Walc', 'health', 'absences', 'Mjob_health', 'Mjob_services', 'Mjob_teacher',\n",
    " 'Fjob_health', 'Fjob_services', 'Fjob_teacher', 'reason_home', 'reason_reputation',\n",
    " 'guardian_mother'], columns=['coeficient']).plot(kind='bar')"
   ]
  },
  {
   "cell_type": "code",
   "execution_count": 19,
   "metadata": {},
   "outputs": [
    {
     "name": "stdout",
     "output_type": "stream",
     "text": [
      "                            OLS Regression Results                            \n",
      "==============================================================================\n",
      "Dep. Variable:                     G3   R-squared:                       0.267\n",
      "Model:                            OLS   Adj. R-squared:                  0.175\n",
      "Method:                 Least Squares   F-statistic:                     2.907\n",
      "Date:                Thu, 28 Nov 2019   Prob (F-statistic):           5.62e-07\n",
      "Time:                        14:28:12   Log-Likelihood:                -882.22\n",
      "No. Observations:                 316   AIC:                             1836.\n",
      "Df Residuals:                     280   BIC:                             1972.\n",
      "Df Model:                          35                                         \n",
      "Covariance Type:            nonrobust                                         \n",
      "=====================================================================================\n",
      "                        coef    std err          t      P>|t|      [0.025      0.975]\n",
      "-------------------------------------------------------------------------------------\n",
      "const                15.1689      5.045      3.007      0.003       5.238      25.100\n",
      "school               -0.7782      0.900     -0.865      0.388      -2.550       0.993\n",
      "sex                   1.9262      0.572      3.366      0.001       0.800       3.053\n",
      "age                  -0.3781      0.232     -1.632      0.104      -0.834       0.078\n",
      "address               1.0425      0.685      1.522      0.129      -0.306       2.391\n",
      "famsize              -0.4216      0.577     -0.731      0.466      -1.558       0.714\n",
      "Pstatus              -0.4802      0.793     -0.606      0.545      -2.041       1.081\n",
      "Medu                  0.0870      0.365      0.238      0.812      -0.631       0.805\n",
      "Fedu                  0.1325      0.314      0.422      0.674      -0.486       0.751\n",
      "traveltime           -0.3145      0.375     -0.839      0.402      -1.053       0.424\n",
      "studytime             0.5870      0.334      1.759      0.080      -0.070       1.244\n",
      "failures             -1.6251      0.375     -4.339      0.000      -2.362      -0.888\n",
      "schoolsup            -0.9081      0.770     -1.179      0.239      -2.424       0.608\n",
      "famsup               -0.6804      0.559     -1.217      0.225      -1.781       0.420\n",
      "paid                  0.2714      0.546      0.497      0.620      -0.804       1.347\n",
      "activities           -0.3474      0.516     -0.673      0.502      -1.364       0.669\n",
      "nursery              -0.0527      0.616     -0.085      0.932      -1.266       1.161\n",
      "higher                1.4881      1.164      1.279      0.202      -0.803       3.779\n",
      "internet              0.6014      0.695      0.865      0.388      -0.767       1.970\n",
      "romantic             -1.0010      0.531     -1.884      0.061      -2.047       0.045\n",
      "famrel                0.1171      0.282      0.416      0.678      -0.437       0.671\n",
      "freetime              0.1952      0.273      0.716      0.475      -0.342       0.732\n",
      "goout                -0.5967      0.256     -2.331      0.020      -1.101      -0.093\n",
      "Dalc                 -0.0776      0.384     -0.202      0.840      -0.833       0.678\n",
      "Walc                  0.0776      0.290      0.268      0.789      -0.493       0.648\n",
      "health               -0.1612      0.182     -0.888      0.375      -0.519       0.196\n",
      "absences              0.0698      0.031      2.248      0.025       0.009       0.131\n",
      "Mjob_health           1.2097      1.077      1.124      0.262      -0.910       3.329\n",
      "Mjob_services         0.6981      0.655      1.065      0.288      -0.592       1.988\n",
      "Mjob_teacher         -0.9026      0.973     -0.928      0.354      -2.817       1.012\n",
      "Fjob_health           0.5023      1.207      0.416      0.678      -1.873       2.878\n",
      "Fjob_services         0.2399      0.610      0.394      0.694      -0.960       1.440\n",
      "Fjob_teacher          1.4171      1.038      1.365      0.173      -0.627       3.461\n",
      "reason_home          -0.4990      0.610     -0.818      0.414      -1.700       0.702\n",
      "reason_reputation     0.1160      0.634      0.183      0.855      -1.131       1.363\n",
      "guardian_mother       0.1097      0.582      0.188      0.851      -1.036       1.256\n",
      "==============================================================================\n",
      "Omnibus:                       20.039   Durbin-Watson:                   1.758\n",
      "Prob(Omnibus):                  0.000   Jarque-Bera (JB):               22.121\n",
      "Skew:                          -0.638   Prob(JB):                     1.57e-05\n",
      "Kurtosis:                       3.222   Cond. No.                         437.\n",
      "==============================================================================\n",
      "\n",
      "Warnings:\n",
      "[1] Standard Errors assume that the covariance matrix of the errors is correctly specified.\n"
     ]
    },
    {
     "name": "stderr",
     "output_type": "stream",
     "text": [
      "C:\\Users\\Robertas\\Anaconda3\\lib\\site-packages\\numpy\\core\\fromnumeric.py:2389: FutureWarning: Method .ptp is deprecated and will be removed in a future version. Use numpy.ptp instead.\n",
      "  return ptp(axis=axis, out=out, **kwargs)\n"
     ]
    }
   ],
   "source": [
    "# With statsmodels\n",
    "X_train = sm.add_constant(X_train) # Intercept\n",
    " \n",
    "model = sm.OLS(Y_train, X_train).fit()\n",
    "predictions = model.predict(X_train) \n",
    " \n",
    "print_model = model.summary()\n",
    "print(print_model)\n",
    "\n",
    "# Remove intercept afterwards\n",
    "X_train= X_train.drop(['const'], axis=1)"
   ]
  },
  {
   "cell_type": "markdown",
   "metadata": {},
   "source": [
    "Šiuo atveju alkoholio įtaka nesikeičia.\n",
    "\n",
    "**Tiesinės regresijos modelio išvados**\n",
    "\n",
    "Be didesnių duomenų transformacijų RMSE gauname 0.56.\n",
    "\n",
    "Iš duomenų pašalinę *other* reikšmes, apie kurias, apart kintamojo 'srities', nieko daugiau nežinome, RMSE sumažiname iki 0.45."
   ]
  },
  {
   "cell_type": "markdown",
   "metadata": {},
   "source": [
    "**Bnadysiu kurti naujų kintamųjų**"
   ]
  },
  {
   "cell_type": "code",
   "execution_count": null,
   "metadata": {},
   "outputs": [],
   "source": []
  },
  {
   "cell_type": "markdown",
   "metadata": {},
   "source": [
    "# Apibendrintieji tiesiniai modeliai"
   ]
  },
  {
   "cell_type": "markdown",
   "metadata": {},
   "source": [
    "**Lasso**\n",
    "\n",
    "Instead of using simple Linear regression defined by\n",
    "\n",
    "$$\\min_w ||Xw - y||^2_2$$\n",
    "\n",
    "we will punish model for using large weights by adding additional term\n",
    "\n",
    "\\begin{align}\n",
    "\\min_{w} { \\frac{1}{2n_{\\text{samples}}} ||X w - y||_2 ^ 2 + \\alpha ||w||_1}\n",
    "\\end{align}"
   ]
  },
  {
   "cell_type": "code",
   "execution_count": 6,
   "metadata": {},
   "outputs": [
    {
     "name": "stdout",
     "output_type": "stream",
     "text": [
      "training score: 0.03997354304075429\n",
      "test score:  0.014858917050669551\n",
      "number of features used:  3\n",
      "training score for alpha=0.01: 0.2653905360700839\n",
      "test score for alpha =0.01:  0.18213635309858467\n",
      "number of features used: for alpha =0.01: 33\n",
      "training score for alpha=0.0001: 0.2665386915329989\n",
      "test score for alpha =0.0001:  0.1896050851201423\n",
      "number of features used: for alpha =0.0001: 35\n",
      "LR training score: 0.26653881112228806\n",
      "LR test score:  0.1896712180937996\n"
     ]
    }
   ],
   "source": [
    "from sklearn.linear_model import Lasso\n",
    "\n",
    "X = d1.drop(['G1', 'G2', 'G3', 'Mjob_other', 'Fjob_other', 'reason_other', 'guardian_other'], axis=1) \n",
    "Y = d1['G3']\n",
    "\n",
    "# Test and Train data\n",
    "X_train, X_test, Y_train, Y_test = train_test_split(X, Y, test_size = .20, random_state = 40)\n",
    "\n",
    "lasso = Lasso() # alpha = 1 by default\n",
    "\n",
    "lasso.fit(X_train, Y_train)\n",
    "\n",
    "train_score=lasso.score(X_train,Y_train)\n",
    "test_score=lasso.score(X_test,Y_test)\n",
    "coeff_used = np.sum(lasso.coef_!=0)\n",
    "\n",
    "print (\"training score:\", train_score )\n",
    "print (\"test score: \", test_score)\n",
    "print (\"number of features used: \", coeff_used)\n",
    "# ----------------------------------------------\n",
    "lasso001 = Lasso(alpha=0.01, max_iter=10e5)\n",
    "\n",
    "lasso001.fit(X_train,Y_train)\n",
    "\n",
    "train_score001=lasso001.score(X_train,Y_train)\n",
    "test_score001=lasso001.score(X_test,Y_test)\n",
    "coeff_used001 = np.sum(lasso001.coef_!=0)\n",
    "\n",
    "print (\"training score for alpha=0.01:\", train_score001)\n",
    "print (\"test score for alpha =0.01: \", test_score001)\n",
    "print (\"number of features used: for alpha =0.01:\", coeff_used001)\n",
    "# -----------------------------------------------\n",
    "lasso00001 = Lasso(alpha=0.0001, max_iter=10e5)\n",
    "\n",
    "lasso00001.fit(X_train,Y_train)\n",
    "\n",
    "train_score00001=lasso00001.score(X_train,Y_train)\n",
    "test_score00001=lasso00001.score(X_test,Y_test)\n",
    "coeff_used00001 = np.sum(lasso00001.coef_!=0)\n",
    "\n",
    "print (\"training score for alpha=0.0001:\", train_score00001) \n",
    "print (\"test score for alpha =0.0001: \", test_score00001)\n",
    "print (\"number of features used: for alpha =0.0001:\", coeff_used00001)\n",
    "# -------------------------------------------------\n",
    "lr = linear_model.LinearRegression()\n",
    "\n",
    "lr.fit(X_train, Y_train)\n",
    "\n",
    "lr_train_score=lr.score(X_train,Y_train)\n",
    "lr_test_score=lr.score(X_test,Y_test)\n",
    "\n",
    "print (\"LR training score:\", lr_train_score )\n",
    "print (\"LR test score: \", lr_test_score)\n"
   ]
  },
  {
   "cell_type": "markdown",
   "metadata": {},
   "source": [
    "Pagal *training score* ir *test score* matome, kad Lasso modelis, kai alpha =0.001 duoda beveik identiškus rezultatus. Regresijai yra panaudojami 35 iš 35 galimų kintamųjų.\n",
    "\n",
    "Reikia patikrinti modelio RMSE."
   ]
  },
  {
   "cell_type": "code",
   "execution_count": 76,
   "metadata": {},
   "outputs": [
    {
     "name": "stdout",
     "output_type": "stream",
     "text": [
      "RMSE = 0.10\n"
     ]
    }
   ],
   "source": [
    "d1_scaled = d1\n",
    "d1_scaled = (d1_scaled - mean) / std\n",
    "\n",
    "X_scaled = d1_scaled.drop(['G1', 'G2', 'G3', 'Mjob_other', 'Fjob_other', 'reason_other', 'guardian_other'], axis=1) \n",
    "Y_scaled = d1_scaled['G3']\n",
    "\n",
    "# Test and Train data\n",
    "X_scaled_train, X_scaled_test, Y_scaled_train, Y_scaled_test = train_test_split(X_scaled, Y_scaled, test_size = .20, random_state = 40)\n",
    "\n",
    "mean = Y_scaled_train.mean()\n",
    "std = Y_scaled_train.std()\n",
    "\n",
    "lasso00001 = Lasso(alpha=0.0001, max_iter=10e5)\n",
    "\n",
    "lasso00001.fit(X_scaled_train,Y_scaled_train)\n",
    "\n",
    "pred = lasso00001.predict(X_scaled_test)\n",
    "pred = pred * Y_scaled_train.std() + Y_scaled_train.mean()\n",
    "print('RMSE = {0:.02f}'.format(np.sqrt(np.mean(pred - Y_scaled_test)**2)))"
   ]
  },
  {
   "cell_type": "code",
   "execution_count": 78,
   "metadata": {},
   "outputs": [
    {
     "data": {
      "text/plain": [
       "<matplotlib.axes._subplots.AxesSubplot at 0x21399e1c518>"
      ]
     },
     "execution_count": 78,
     "metadata": {},
     "output_type": "execute_result"
    },
    {
     "data": {
      "image/png": "[encoded data removed]",
      "text/plain": [
       "<Figure size 432x288 with 1 Axes>"
      ]
     },
     "metadata": {
      "needs_background": "light"
     },
     "output_type": "display_data"
    }
   ],
   "source": [
    "pd.DataFrame(lasso00001.coef_, index=['school', 'sex', 'age', 'address', 'famsize', 'Pstatus', 'Medu', 'Fedu', 'traveltime',\n",
    " 'studytime', 'failures', 'schoolsup', 'famsup', 'paid', 'activities', 'nursery', 'higher', 'internet', 'romantic', 'famrel',\n",
    " 'freetime', 'goout', 'Dalc', 'Walc', 'health', 'absences', 'Mjob_health', 'Mjob_services', 'Mjob_teacher',\n",
    " 'Fjob_health', 'Fjob_services', 'Fjob_teacher', 'reason_home', 'reason_reputation',\n",
    " 'guardian_mother'], columns=['coeficient']).plot(kind='bar')"
   ]
  },
  {
   "cell_type": "code",
   "execution_count": 79,
   "metadata": {},
   "outputs": [
    {
     "data": {
      "image/png": "[encoded data removed]",
      "text/plain": [
       "<Figure size 432x288 with 2 Axes>"
      ]
     },
     "metadata": {
      "needs_background": "light"
     },
     "output_type": "display_data"
    }
   ],
   "source": [
    "plt.subplot(1,2,1)\n",
    "plt.plot(lasso.coef_,alpha=0.7,linestyle='none',marker='*',markersize=5,color='red',label=r'Lasso; $\\alpha = 1$',zorder=7) # alpha here is for transparency\n",
    "plt.plot(lasso001.coef_,alpha=0.5,linestyle='none',marker='d',markersize=6,color='blue',label=r'Lasso; $\\alpha = 0.01$') # alpha here is for transparency\n",
    "\n",
    "plt.xlabel('Coefficient Index',fontsize=16)\n",
    "plt.ylabel('Coefficient Magnitude',fontsize=16)\n",
    "plt.legend(fontsize=13,loc=4)\n",
    "plt.subplot(1,2,2)\n",
    "plt.plot(lasso.coef_,alpha=0.7,linestyle='none',marker='*',markersize=5,color='red',label=r'Lasso; $\\alpha = 1$',zorder=7) # alpha here is for transparency\n",
    "plt.plot(lasso001.coef_,alpha=0.5,linestyle='none',marker='d',markersize=6,color='blue',label=r'Lasso; $\\alpha = 0.01$') # alpha here is for transparency\n",
    "plt.plot(lasso00001.coef_,alpha=0.8,linestyle='none',marker='v',markersize=6,color='black',label=r'Lasso; $\\alpha = 0.00001$') # alpha here is for transparency\n",
    "plt.plot(lr.coef_,alpha=0.7,linestyle='none',marker='o',markersize=5,color='green',label='Linear Regression',zorder=2)\n",
    "plt.xlabel('Coefficient Index',fontsize=16)\n",
    "plt.ylabel('Coefficient Magnitude',fontsize=16)\n",
    "plt.legend(fontsize=13,loc=4)\n",
    "plt.tight_layout()\n",
    "plt.show()"
   ]
  },
  {
   "cell_type": "markdown",
   "metadata": {},
   "source": [
    "# Random Forrest"
   ]
  },
  {
   "cell_type": "code",
   "execution_count": 73,
   "metadata": {},
   "outputs": [
    {
     "name": "stdout",
     "output_type": "stream",
     "text": [
      "RMSE = 3.80\n"
     ]
    }
   ],
   "source": [
    "X = d1.drop(['G1', 'G2', 'G3', 'Mjob_other', 'Fjob_other', 'reason_other', 'guardian_other'], axis=1) \n",
    "Y = d1['G3']\n",
    "\n",
    "# Test and Train data\n",
    "X_train, X_test, Y_train, Y_test = train_test_split(X, Y, test_size = .20, random_state = 40)\n",
    "\n",
    "rf = RandomForestRegressor(n_estimators=100)\n",
    "rf.fit(X_train, Y_train)\n",
    "pred = rf.predict(X_test)\n",
    "print('RMSE = {0:.02f}'.format(np.sqrt(np.mean((pred - Y_test)**2))))"
   ]
  },
  {
   "cell_type": "markdown",
   "metadata": {},
   "source": [
    "# Tiesinės regresijos modelio GUI - nuspėkime naują galutinį pažymį, žinodami naujus duomenis."
   ]
  },
  {
   "cell_type": "code",
   "execution_count": 7,
   "metadata": {},
   "outputs": [
    {
     "name": "stderr",
     "output_type": "stream",
     "text": [
      "C:\\Users\\Robertas\\Anaconda3\\lib\\site-packages\\sklearn\\utils\\validation.py:532: FutureWarning: Beginning in version 0.22, arrays of bytes/strings will be converted to decimal numbers if dtype='numeric'. It is recommended that you convert the array to a float dtype before using it in scikit-learn, for example by using your_array = your_array.astype(np.float64).\n",
      "  FutureWarning)\n",
      "Exception in Tkinter callback\n",
      "Traceback (most recent call last):\n",
      "  File \"C:\\Users\\Robertas\\Anaconda3\\lib\\tkinter\\__init__.py\", line 1705, in __call__\n",
      "    return self.func(*args)\n",
      "  File \"<ipython-input-7-f20f02916ad7>\", line 343, in values\n",
      "    new_reason_home, new_reason_reputation, new_guardian_mother]]))\n",
      "  File \"C:\\Users\\Robertas\\Anaconda3\\lib\\site-packages\\sklearn\\linear_model\\base.py\", line 221, in predict\n",
      "    return self._decision_function(X)\n",
      "  File \"C:\\Users\\Robertas\\Anaconda3\\lib\\site-packages\\sklearn\\linear_model\\base.py\", line 206, in _decision_function\n",
      "    dense_output=True) + self.intercept_\n",
      "  File \"C:\\Users\\Robertas\\Anaconda3\\lib\\site-packages\\sklearn\\utils\\extmath.py\", line 142, in safe_sparse_dot\n",
      "    return np.dot(a, b)\n",
      "TypeError: Cannot cast array data from dtype('float64') to dtype('<U32') according to the rule 'safe'\n"
     ]
    }
   ],
   "source": [
    "# tkinter GUI\n",
    "root= tk.Tk()\n",
    "\n",
    "canvas1 = tk.Canvas(root, width = 1000, height = 600)\n",
    "canvas1.pack()\n",
    "\n",
    "# with sklearn\n",
    "Intercept_result = ('Intercept: ', lr.intercept_)\n",
    "label_Intercept = tk.Label(root, text=Intercept_result, justify = 'center')\n",
    "canvas1.create_window(270, 420, window=label_Intercept)\n",
    "\n",
    "# with sklearn\n",
    "Coefficients_result  = ('Coefficients: ', lr.coef_)\n",
    "label_Coefficients = tk.Label(root, text=Coefficients_result, justify = 'center')\n",
    "canvas1.create_window(270, 480, window=label_Coefficients)\n",
    "\n",
    "# New_school label and input box\n",
    "label1 = tk.Label(root, text='Type in School: ')\n",
    "canvas1.create_window(100, 40, window=label1)\n",
    "\n",
    "entry1 = tk.Entry (root) # create 1st entry box\n",
    "canvas1.create_window(270, 40, window=entry1)\n",
    "\n",
    "label2 = tk.Label(root, text=' Type in student sex: ')\n",
    "canvas1.create_window(100, 60, window=label2)\n",
    "\n",
    "entry2 = tk.Entry (root) \n",
    "canvas1.create_window(270, 60, window=entry2)\n",
    "\n",
    "label3 = tk.Label(root, text='Type in age: ')\n",
    "canvas1.create_window(100, 80, window=label3)\n",
    "\n",
    "entry3 = tk.Entry (root) \n",
    "canvas1.create_window(270, 80, window=entry3)\n",
    "\n",
    "label4 = tk.Label(root, text='Type in address: ')\n",
    "canvas1.create_window(100, 100, window=label4)\n",
    "\n",
    "entry4 = tk.Entry (root) \n",
    "canvas1.create_window(270, 100, window=entry4)\n",
    "\n",
    "label5 = tk.Label(root, text='Type in famsize: ')\n",
    "canvas1.create_window(100, 120, window=label5)\n",
    "\n",
    "entry5 = tk.Entry (root) \n",
    "canvas1.create_window(270, 120, window=entry5)\n",
    "\n",
    "label6 = tk.Label(root, text='Type in Pstatus: ')\n",
    "canvas1.create_window(100, 140, window=label6)\n",
    "\n",
    "entry6 = tk.Entry (root) \n",
    "canvas1.create_window(270, 140, window=entry6)\n",
    "\n",
    "label7 = tk.Label(root, text='Type in Medu: ')\n",
    "canvas1.create_window(100, 160, window=label7)\n",
    "\n",
    "entry7 = tk.Entry (root) \n",
    "canvas1.create_window(270, 160, window=entry7)\n",
    "\n",
    "label8 = tk.Label(root, text='Type in Fedu: ')\n",
    "canvas1.create_window(100, 180, window=label8)\n",
    "\n",
    "entry8 = tk.Entry (root) \n",
    "canvas1.create_window(270, 180, window=entry8)\n",
    "\n",
    "label9 = tk.Label(root, text='Type in traveltime: ')\n",
    "canvas1.create_window(100, 200, window=label9)\n",
    "\n",
    "entry9 = tk.Entry (root) \n",
    "canvas1.create_window(270, 200, window=entry9)\n",
    "\n",
    "label10 = tk.Label(root, text='Type in studytime: ')\n",
    "canvas1.create_window(100, 220, window=label10)\n",
    "\n",
    "entry10 = tk.Entry (root) \n",
    "canvas1.create_window(270, 220, window=entry10)\n",
    "\n",
    "label11 = tk.Label(root, text='Type in failures: ')\n",
    "canvas1.create_window(100, 240, window=label11)\n",
    "\n",
    "entry11 = tk.Entry (root) \n",
    "canvas1.create_window(270, 240, window=entry11)\n",
    "\n",
    "label12 = tk.Label(root, text='Type in schoolsup: ')\n",
    "canvas1.create_window(100, 260, window=label12)\n",
    "\n",
    "entry12 = tk.Entry (root) \n",
    "canvas1.create_window(270, 260, window=entry12)\n",
    "\n",
    "label13 = tk.Label(root, text='Type in famsup: ')\n",
    "canvas1.create_window(100, 280, window=label13)\n",
    "\n",
    "entry13 = tk.Entry (root) \n",
    "canvas1.create_window(270, 280, window=entry13)\n",
    "\n",
    "label14 = tk.Label(root, text='Type in paid: ')\n",
    "canvas1.create_window(100, 300, window=label14)\n",
    "\n",
    "entry14 = tk.Entry (root) \n",
    "canvas1.create_window(270, 300, window=entry14)\n",
    "\n",
    "label15 = tk.Label(root, text='Type in activities: ')\n",
    "canvas1.create_window(100, 320, window=label15)\n",
    "\n",
    "entry15 = tk.Entry (root) \n",
    "canvas1.create_window(270, 320, window=entry15)\n",
    "\n",
    "label16 = tk.Label(root, text='Type in nursery: ')\n",
    "canvas1.create_window(100, 340, window=label16)\n",
    "\n",
    "entry16 = tk.Entry (root) \n",
    "canvas1.create_window(270, 340, window=entry16)\n",
    "\n",
    "label17 = tk.Label(root, text='Type in higher: ')\n",
    "canvas1.create_window(100, 360, window=label17)\n",
    "\n",
    "entry17 = tk.Entry (root) \n",
    "canvas1.create_window(270, 360, window=entry17)\n",
    "\n",
    "label18 = tk.Label(root, text='Type in internet: ')\n",
    "canvas1.create_window(100, 380, window=label18)\n",
    "\n",
    "entry18 = tk.Entry (root) \n",
    "canvas1.create_window(270, 380, window=entry18)\n",
    "\n",
    "label19 = tk.Label(root, text='Type in romantic: ')\n",
    "canvas1.create_window(540, 40, window=label19)\n",
    "\n",
    "entry19 = tk.Entry (root) \n",
    "canvas1.create_window(710, 40, window=entry19)\n",
    "\n",
    "label20 = tk.Label(root, text='Type in famrel: ')\n",
    "canvas1.create_window(540, 60, window=label20)\n",
    "\n",
    "entry20 = tk.Entry (root) \n",
    "canvas1.create_window(710, 60, window=entry20)\n",
    "\n",
    "label21 = tk.Label(root, text='Type in freetime: ')\n",
    "canvas1.create_window(540, 80, window=label21)\n",
    "\n",
    "entry21 = tk.Entry (root) \n",
    "canvas1.create_window(710, 80, window=entry21)\n",
    "\n",
    "label22 = tk.Label(root, text='Type in goout: ')\n",
    "canvas1.create_window(540, 100, window=label22)\n",
    "\n",
    "entry22 = tk.Entry (root) \n",
    "canvas1.create_window(710, 100, window=entry22)\n",
    "\n",
    "label23 = tk.Label(root, text='Type in Dalc: ')\n",
    "canvas1.create_window(540, 120, window=label23)\n",
    "\n",
    "entry23 = tk.Entry (root) \n",
    "canvas1.create_window(710, 120, window=entry23)\n",
    "\n",
    "label24 = tk.Label(root, text='Type in Walc: ')\n",
    "canvas1.create_window(540, 140, window=label24)\n",
    "\n",
    "entry24 = tk.Entry (root) \n",
    "canvas1.create_window(710, 140, window=entry24)\n",
    "\n",
    "label25 = tk.Label(root, text='Type in health: ')\n",
    "canvas1.create_window(540, 160, window=label25)\n",
    "\n",
    "entry25 = tk.Entry (root) \n",
    "canvas1.create_window(710, 160, window=entry25)\n",
    "\n",
    "label26 = tk.Label(root, text='Type in absences: ')\n",
    "canvas1.create_window(540, 180, window=label26)\n",
    "\n",
    "entry26 = tk.Entry (root) \n",
    "canvas1.create_window(710, 180, window=entry26)\n",
    "\n",
    "label27 = tk.Label(root, text='Type in Mjob_health: ')\n",
    "canvas1.create_window(540, 200, window=label27)\n",
    "\n",
    "entry27 = tk.Entry (root) \n",
    "canvas1.create_window(710, 200, window=entry27)\n",
    "\n",
    "label28 = tk.Label(root, text='Type in Mjob_services: ')\n",
    "canvas1.create_window(540, 220, window=label28)\n",
    "\n",
    "entry28 = tk.Entry (root) \n",
    "canvas1.create_window(710, 220, window=entry28)\n",
    "\n",
    "label29 = tk.Label(root, text='Type in Mjob_teacher: ')\n",
    "canvas1.create_window(540, 240, window=label29)\n",
    "\n",
    "entry29 = tk.Entry (root) \n",
    "canvas1.create_window(710, 240, window=entry29)\n",
    "\n",
    "label30 = tk.Label(root, text='Type in Fjob_health: ')\n",
    "canvas1.create_window(540, 260, window=label30)\n",
    "\n",
    "entry30 = tk.Entry (root) \n",
    "canvas1.create_window(710, 260, window=entry30)\n",
    "\n",
    "label31 = tk.Label(root, text='Type in Fjob_services: ')\n",
    "canvas1.create_window(540, 280, window=label31)\n",
    "\n",
    "entry31 = tk.Entry (root) \n",
    "canvas1.create_window(710, 280, window=entry31)\n",
    "\n",
    "label32 = tk.Label(root, text='Type in Fjob_teacher: ')\n",
    "canvas1.create_window(540, 300, window=label32)\n",
    "\n",
    "entry32 = tk.Entry (root) \n",
    "canvas1.create_window(710, 300, window=entry32)\n",
    "\n",
    "label33 = tk.Label(root, text='Type in reason_home: ')\n",
    "canvas1.create_window(540, 320, window=label33)\n",
    "\n",
    "entry33 = tk.Entry (root) \n",
    "canvas1.create_window(710, 320, window=entry33)\n",
    "\n",
    "label34 = tk.Label(root, text='Type in reason_reputation: ')\n",
    "canvas1.create_window(540, 340, window=label34)\n",
    "\n",
    "entry34 = tk.Entry (root) \n",
    "canvas1.create_window(710, 340, window=entry34)\n",
    "\n",
    "label35 = tk.Label(root, text='Type in guardian_mother: ')\n",
    "canvas1.create_window(540, 360, window=label35)\n",
    "\n",
    "entry35 = tk.Entry (root) \n",
    "canvas1.create_window(710, 360, window=entry35)\n",
    "\n",
    "def values(): \n",
    "    global new_school #our 1st input variable\n",
    "    new_school = entry1.get()\n",
    "    \n",
    "    global new_sex\n",
    "    new_sex = entry2.get()\n",
    "    \n",
    "    global new_age\n",
    "    new_age = entry3.get()\n",
    "    \n",
    "    global new_address\n",
    "    new_address = entry4.get()\n",
    "    \n",
    "    global new_famsize\n",
    "    new_famsize = entry5.get()\n",
    "    \n",
    "    global new_Pstatus\n",
    "    new_Pstatus = entry6.get() \n",
    "    \n",
    "    global new_Medu\n",
    "    new_Medu = entry7.get() \n",
    "    \n",
    "    global new_Fedu\n",
    "    new_Fedu = entry8.get()\n",
    "    \n",
    "    global new_traveltime\n",
    "    new_traveltime = entry9.get()\n",
    "    \n",
    "    global new_studytime\n",
    "    new_studytime = entry10.get() \n",
    "    \n",
    "    global new_failures\n",
    "    new_failures = entry11.get() \n",
    "    \n",
    "    global new_schoolsup\n",
    "    new_schoolsup= entry12.get() \n",
    "    \n",
    "    global new_famsup\n",
    "    new_famsup = entry13.get() \n",
    "    \n",
    "    global new_paid\n",
    "    new_paid= entry14.get() \n",
    "    \n",
    "    global new_activities\n",
    "    new_activities = entry15.get() \n",
    "    \n",
    "    global new_nursery\n",
    "    new_nursery = entry16.get() \n",
    "    \n",
    "    global new_higher\n",
    "    new_higher = entry17.get() \n",
    "    \n",
    "    global new_internet\n",
    "    new_internet = entry18.get() \n",
    "    \n",
    "    global new_romantic\n",
    "    new_romantic = entry19.get()\n",
    "    \n",
    "    global new_famrel\n",
    "    new_famrel = entry20.get()\n",
    "    \n",
    "    global new_freetime\n",
    "    new_freetime = entry21.get()\n",
    "    \n",
    "    global new_goout\n",
    "    new_goout = entry22.get()\n",
    "    \n",
    "    global new_Dalc\n",
    "    new_Dalc = entry23.get()\n",
    "    \n",
    "    global new_Walc\n",
    "    new_Walc = entry24.get()\n",
    "    \n",
    "    global new_health\n",
    "    new_health = entry25.get()\n",
    "    \n",
    "    global new_absences\n",
    "    new_absences = entry26.get()\n",
    "    \n",
    "    global new_Mjob_health\n",
    "    new_Mjob_health = entry27.get()\n",
    "    \n",
    "    global new_Mjob_services\n",
    "    new_Mjob_services = entry28.get()\n",
    "    \n",
    "    global new_Mjob_teacher\n",
    "    new_Mjob_teacher = entry29.get()\n",
    "    \n",
    "    global new_Fjob_health\n",
    "    new_Fjob_health = entry30.get()\n",
    "    \n",
    "    global new_Fjob_services\n",
    "    new_Fjob_services = entry31.get()\n",
    "   \n",
    "    global new_Fjob_teacher\n",
    "    new_Fjob_teacher = entry32.get()\n",
    "    \n",
    "    global new_reason_home\n",
    "    new_reason_home = entry33.get()\n",
    "    \n",
    "    global new_reason_reputation\n",
    "    new_reason_reputation = entry34.get()\n",
    "    \n",
    "    global new_guardian_mother\n",
    "    new_guardian_mother = entry35.get()\n",
    "    \n",
    "    \n",
    "    Prediction_result  = ('Predicted Final Grade: ', lr.predict([[lr.intercept_, new_school, new_sex, new_age, new_address, new_famsize, \n",
    "                                                                  new_Pstatus, new_Medu, new_Fedu, new_traveltime, \n",
    "                                                                  new_studytime, new_failures, new_schoolsup, new_famsup, \n",
    "                                                                  new_paid, new_activities, new_nursery, new_higher,\n",
    "                                                                  new_internet, new_romantic, new_famrel, new_freetime, \n",
    "                                                                  new_goout, new_Dalc, new_Walc, new_health, new_absences, \n",
    "                                                                  new_Mjob_health, new_Mjob_services, new_Mjob_teacher, \n",
    "                                                                  new_Fjob_health, new_Fjob_services, new_Fjob_teacher, \n",
    "                                                                  new_reason_home, new_reason_reputation, new_guardian_mother]]))\n",
    "    label_Prediction = tk.Label(root, text= Prediction_result, bg='orange')\n",
    "    canvas1.create_window(710, 460, window=label_Prediction)\n",
    "    \n",
    "button1 = tk.Button (root, text='Predict Final Grade',command=values, bg='orange') # button to call the 'values' command above \n",
    "canvas1.create_window(710, 420, window=button1)\n",
    " \n",
    "\n",
    "root.mainloop()"
   ]
  },
  {
   "cell_type": "markdown",
   "metadata": {},
   "source": []
  },
  {
   "cell_type": "markdown",
   "metadata": {},
   "source": [
    "Klausimai:\n",
    "\n",
    "1) Kaip kurti naujus kintamuosius, kai pagrinde duomenis sutaro kategoriniai kintamieji?\n",
    "2) Lasso regresijos confirmation, ar ten logiška? Kodėl RMSE toks mažas?\n",
    "3) Kodėl Random Forrest duoda žymiai didesnį RMSE?\n",
    "4) Regresijos GUI errorai?"
   ]
  }
 ],
 "metadata": {
  "kernelspec": {
   "display_name": "Python 3",
   "language": "python",
   "name": "python3"
  },
  "language_info": {
   "codemirror_mode": {
    "name": "ipython",
    "version": 3
   },
   "file_extension": ".py",
   "mimetype": "text/x-python",
   "name": "python",
   "nbconvert_exporter": "python",
   "pygments_lexer": "ipython3",
   "version": "3.7.3"
  }
 },
 "nbformat": 4,
 "nbformat_minor": 2
}
